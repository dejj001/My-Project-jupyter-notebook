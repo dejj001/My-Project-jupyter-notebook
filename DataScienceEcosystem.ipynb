{
 "cells": [
  {
   "cell_type": "markdown",
   "id": "d3d3b506-7c60-4be9-a7d3-fb32e6474be4",
   "metadata": {},
   "source": [
    "# Data Science Tools and Ecosystem"
   ]
  },
  {
   "cell_type": "markdown",
   "id": "dcb39b32-5392-48da-b62b-8160e03dc342",
   "metadata": {},
   "source": [
    "# Data Science Tools and Ecosystem"
   ]
  },
  {
   "cell_type": "markdown",
   "id": "123677fa-3454-430f-ba84-9999aa49972d",
   "metadata": {},
   "source": [
    "In this notebook, Data Science Tools and Ecosystem are summarized."
   ]
  },
  {
   "cell_type": "markdown",
   "id": "9d5c46e1-88a3-4fdb-b158-38ee8b53405d",
   "metadata": {},
   "source": [
    "In this notebook, Data Science Tools and Ecosystem are summarized."
   ]
  },
  {
   "cell_type": "markdown",
   "id": "abfa5777-c8df-491f-a27d-acfec513f8ca",
   "metadata": {},
   "source": [
    "**Objectives:**\n",
    "\n",
    "* List popular languages for Data Science\n",
    "* commonly used libraries used by Data Scientists\n",
    "* examples of evaluating arithmetic expressions in Python"
   ]
  },
  {
   "cell_type": "markdown",
   "id": "68a26609-da9c-4432-be38-6917dd1b1dac",
   "metadata": {},
   "source": [
    "**Objectives:**\n",
    "\n",
    "* List popular languages for Data Science\n",
    "* commonly used libraries used by Data Scientists\n",
    "* examples of evaluating arithmetic expressions in Python"
   ]
  },
  {
   "cell_type": "markdown",
   "id": "f2ad7dd1-86fd-42a7-9880-e9b3ac2087a3",
   "metadata": {},
   "source": [
    "### Some of the popular languages that Data Scientists use are:\n",
    "\n",
    "1. Python\n",
    "2. R\n",
    "3. Java\n",
    "4. SQL"
   ]
  },
  {
   "cell_type": "code",
   "execution_count": null,
   "id": "16281fa8-2b86-4c15-8312-e5c309cfebb8",
   "metadata": {},
   "outputs": [],
   "source": []
  },
  {
   "cell_type": "markdown",
   "id": "818e4fc1-dd05-4307-a75d-9062615e204e",
   "metadata": {},
   "source": [
    "### Some of the popular languages that Data Scientists use are:\n",
    "\n",
    "1. Python\n",
    "2. R\n",
    "3. Java\n",
    "4. SQL"
   ]
  },
  {
   "cell_type": "markdown",
   "id": "53cfc364-0bae-4399-a5af-ae2e3eaf4d2c",
   "metadata": {},
   "source": [
    "### Some of the commonly used libraries used by Data Scientists include:\n",
    "\n",
    "1. Pandas\n",
    "2. Numpy\n",
    "3. matplotlib"
   ]
  },
  {
   "cell_type": "markdown",
   "id": "dbde5cf8-b0cc-4011-92e0-9d289ca4a085",
   "metadata": {},
   "source": [
    "### Some of the commonly used libraries used by Data Scientists include:\n",
    "\n",
    "1. Pandas\n",
    "2. Numpy\n",
    "3. matplotlib"
   ]
  },
  {
   "cell_type": "markdown",
   "id": "dfb21e6c-056d-4be7-89f6-c44255c8e5ed",
   "metadata": {
    "jp-MarkdownHeadingCollapsed": true,
    "tags": []
   },
   "source": [
    "| Data Science Tools |\n",
    "| --- |\n",
    "|      RStudio       |\n",
    "|    Apache Spark    |\n",
    "|     JupyterLab     |"
   ]
  },
  {
   "cell_type": "markdown",
   "id": "0635b04e-75ef-40aa-b717-7d6731def2f1",
   "metadata": {},
   "source": [
    "| Data Science Tools |\n",
    "| --- |\n",
    "|      RStudio       |\n",
    "|    Apache Spark    |\n",
    "|     JupyterLab     |"
   ]
  },
  {
   "cell_type": "markdown",
   "id": "6249066e-b526-4672-b879-e775300fb9f4",
   "metadata": {},
   "source": [
    "### Below are a few examples of evaluating arithmetic expressions in Python"
   ]
  },
  {
   "cell_type": "markdown",
   "id": "d4fa352e-bff9-4cc1-a0f7-ece088771b9e",
   "metadata": {},
   "source": [
    "### Below are a few examples of evaluating arithmetic expressions in Python"
   ]
  },
  {
   "cell_type": "code",
   "execution_count": 3,
   "id": "cf63b958-f6c6-42f4-aaec-a39fb46fe0cc",
   "metadata": {
    "tags": []
   },
   "outputs": [
    {
     "data": {
      "text/plain": [
       "17"
      ]
     },
     "execution_count": 3,
     "metadata": {},
     "output_type": "execute_result"
    }
   ],
   "source": [
    "# This a simple arithmetic expression to mutiply then add integers\n",
    "(3*4)+5"
   ]
  },
  {
   "cell_type": "code",
   "execution_count": 4,
   "id": "b9ea3fa7-a7af-4cbc-bd6f-775cb3b1ad23",
   "metadata": {
    "tags": []
   },
   "outputs": [
    {
     "data": {
      "text/plain": [
       "3.3333333333333335"
      ]
     },
     "execution_count": 4,
     "metadata": {},
     "output_type": "execute_result"
    }
   ],
   "source": [
    "# This will convert 200 minutes to hours by diving by 60\n",
    "200 / 60"
   ]
  },
  {
   "cell_type": "markdown",
   "id": "48b6a7f2-46fd-4e4f-8da2-06064bd31c46",
   "metadata": {},
   "source": [
    "## Author\n",
    "  Yasser Imorgha"
   ]
  },
  {
   "cell_type": "markdown",
   "id": "e219a72a-0dda-4ca2-b828-d02f4d822c72",
   "metadata": {},
   "source": [
    "## Author\n",
    "  Yasser Imorgha"
   ]
  },
  {
   "cell_type": "code",
   "execution_count": null,
   "id": "f823a432-33d0-49b5-8c31-cd72fd924170",
   "metadata": {},
   "outputs": [],
   "source": []
  }
 ],
 "metadata": {
  "kernelspec": {
   "display_name": "Python",
   "language": "python",
   "name": "conda-env-python-py"
  },
  "language_info": {
   "codemirror_mode": {
    "name": "ipython",
    "version": 3
   },
   "file_extension": ".py",
   "mimetype": "text/x-python",
   "name": "python",
   "nbconvert_exporter": "python",
   "pygments_lexer": "ipython3",
   "version": "3.7.12"
  }
 },
 "nbformat": 4,
 "nbformat_minor": 5
}
